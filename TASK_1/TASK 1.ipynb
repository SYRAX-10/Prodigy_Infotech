{
 "cells": [
  {
   "cell_type": "code",
   "execution_count": 32,
   "id": "36380eaa-6f33-49c7-9bc6-99dbe52765c7",
   "metadata": {},
   "outputs": [],
   "source": [
    "#Task 1\n"
   ]
  },
  {
   "cell_type": "code",
   "execution_count": 33,
   "id": "8c78c7a3-f810-4316-b59c-4e75344b916a",
   "metadata": {},
   "outputs": [],
   "source": [
    "#importing necessary librabries\n",
    "\n",
    "\n",
    "import pandas as pd\n",
    "import numpy as np\n",
    "import matplotlib.pyplot as plt\n",
    "import seaborn as sns"
   ]
  },
  {
   "cell_type": "code",
   "execution_count": 34,
   "id": "ee43f365-7aa4-4298-9aea-ac90e1a675a2",
   "metadata": {},
   "outputs": [
    {
     "name": "stdout",
     "output_type": "stream",
     "text": [
      "Data preview:\n",
      "                  Country Name Country Code     Indicator Name Indicator Code  \\\n",
      "0                        Aruba          ABW  Population, total    SP.POP.TOTL   \n",
      "1  Africa Eastern and Southern          AFE  Population, total    SP.POP.TOTL   \n",
      "2                  Afghanistan          AFG  Population, total    SP.POP.TOTL   \n",
      "3   Africa Western and Central          AFW  Population, total    SP.POP.TOTL   \n",
      "4                       Angola          AGO  Population, total    SP.POP.TOTL   \n",
      "\n",
      "          1960         1961         1962         1963         1964  \\\n",
      "0      54922.0      55578.0      56320.0      57002.0      57619.0   \n",
      "1  130072080.0  133534923.0  137171659.0  140945536.0  144904094.0   \n",
      "2    9035043.0    9214083.0    9404406.0    9604487.0    9814318.0   \n",
      "3   97630925.0   99706674.0  101854756.0  104089175.0  106388440.0   \n",
      "4    5231654.0    5301583.0    5354310.0    5408320.0    5464187.0   \n",
      "\n",
      "          1965  ...         2015         2016         2017         2018  \\\n",
      "0      58190.0  ...     107906.0     108727.0     108735.0     108908.0   \n",
      "1  149033472.0  ...  607123269.0  623369401.0  640058741.0  657801085.0   \n",
      "2   10036008.0  ...   33831764.0   34700612.0   35688935.0   36743039.0   \n",
      "3  108772632.0  ...  418127845.0  429454743.0  440882906.0  452195915.0   \n",
      "4    5521981.0  ...   28157798.0   29183070.0   30234839.0   31297155.0   \n",
      "\n",
      "          2019         2020         2021         2022         2023  \\\n",
      "0     109203.0     108587.0     107700.0     107310.0     107359.0   \n",
      "1  675950189.0  694446100.0  713090928.0  731821393.0  750503764.0   \n",
      "2   37856121.0   39068979.0   40000412.0   40578842.0   41454761.0   \n",
      "3  463365429.0  474569351.0  485920997.0  497387180.0  509398589.0   \n",
      "4   32375632.0   33451132.0   34532429.0   35635029.0   36749906.0   \n",
      "\n",
      "   Unnamed: 68  \n",
      "0          NaN  \n",
      "1          NaN  \n",
      "2          NaN  \n",
      "3          NaN  \n",
      "4          NaN  \n",
      "\n",
      "[5 rows x 69 columns]\n",
      "Cleaned data saved to cleaned_world_populations.csv\n"
     ]
    }
   ],
   "source": [
    "# Define the file path\n",
    "file_path = 'world populations.csv'\n",
    "\n",
    "# Load the data, skipping metadata rows\n",
    "try:\n",
    "    # Skip the first 4 lines that contain metadata\n",
    "    data = pd.read_csv(file_path, skiprows=4)\n",
    "    \n",
    "    # Display a preview of the data\n",
    "    print(\"Data preview:\")\n",
    "    print(data.head(5))\n",
    "    \n",
    "    # Save the cleaned data for future use (optional)\n",
    "    cleaned_file_path = 'cleaned_world_populations.csv'\n",
    "    data.to_csv(cleaned_file_path, index=False)\n",
    "    print(f\"Cleaned data saved to {cleaned_file_path}\")\n",
    "except Exception as e:\n",
    "    print(f\"Error: {e}\")\n",
    "\n",
    "\n"
   ]
  },
  {
   "cell_type": "code",
   "execution_count": 35,
   "id": "2631bbaf-c36e-454d-9446-fa247b34c1ef",
   "metadata": {},
   "outputs": [
    {
     "data": {
      "text/plain": [
       "Index(['Country Name', 'Country Code', 'Indicator Name', 'Indicator Code',\n",
       "       '1960', '1961', '1962', '1963', '1964', '1965', '1966', '1967', '1968',\n",
       "       '1969', '1970', '1971', '1972', '1973', '1974', '1975', '1976', '1977',\n",
       "       '1978', '1979', '1980', '1981', '1982', '1983', '1984', '1985', '1986',\n",
       "       '1987', '1988', '1989', '1990', '1991', '1992', '1993', '1994', '1995',\n",
       "       '1996', '1997', '1998', '1999', '2000', '2001', '2002', '2003', '2004',\n",
       "       '2005', '2006', '2007', '2008', '2009', '2010', '2011', '2012', '2013',\n",
       "       '2014', '2015', '2016', '2017', '2018', '2019', '2020', '2021', '2022',\n",
       "       '2023', 'Unnamed: 68'],\n",
       "      dtype='object')"
      ]
     },
     "execution_count": 35,
     "metadata": {},
     "output_type": "execute_result"
    }
   ],
   "source": [
    "#checking the columns of the data\n",
    "\n",
    "data.columns\n",
    "\n",
    "\n"
   ]
  },
  {
   "cell_type": "code",
   "execution_count": 36,
   "id": "29fc0566",
   "metadata": {},
   "outputs": [
    {
     "name": "stdout",
     "output_type": "stream",
     "text": [
      "['ABW' 'AFE' 'AFG' 'AFW' 'AGO' 'ALB' 'AND' 'ARB' 'ARE' 'ARG' 'ARM' 'ASM'\n",
      " 'ATG' 'AUS' 'AUT' 'AZE' 'BDI' 'BEL' 'BEN' 'BFA' 'BGD' 'BGR' 'BHR' 'BHS'\n",
      " 'BIH' 'BLR' 'BLZ' 'BMU' 'BOL' 'BRA' 'BRB' 'BRN' 'BTN' 'BWA' 'CAF' 'CAN'\n",
      " 'CEB' 'CHE' 'CHI' 'CHL' 'CHN' 'CIV' 'CMR' 'COD' 'COG' 'COL' 'COM' 'CPV'\n",
      " 'CRI' 'CSS' 'CUB' 'CUW' 'CYM' 'CYP' 'CZE' 'DEU' 'DJI' 'DMA' 'DNK' 'DOM'\n",
      " 'DZA' 'EAP' 'EAR' 'EAS' 'ECA' 'ECS' 'ECU' 'EGY' 'EMU' 'ERI' 'ESP' 'EST'\n",
      " 'ETH' 'EUU' 'FCS' 'FIN' 'FJI' 'FRA' 'FRO' 'FSM' 'GAB' 'GBR' 'GEO' 'GHA'\n",
      " 'GIB' 'GIN' 'GMB' 'GNB' 'GNQ' 'GRC' 'GRD' 'GRL' 'GTM' 'GUM' 'GUY' 'HIC'\n",
      " 'HKG' 'HND' 'HPC' 'HRV' 'HTI' 'HUN' 'IBD' 'IBT' 'IDA' 'IDB' 'IDN' 'IDX'\n",
      " 'IMN' 'IND' 'INX' 'IRL' 'IRN' 'IRQ' 'ISL' 'ISR' 'ITA' 'JAM' 'JOR' 'JPN'\n",
      " 'KAZ' 'KEN' 'KGZ' 'KHM' 'KIR' 'KNA' 'KOR' 'KWT' 'LAC' 'LAO' 'LBN' 'LBR'\n",
      " 'LBY' 'LCA' 'LCN' 'LDC' 'LIC' 'LIE' 'LKA' 'LMC' 'LMY' 'LSO' 'LTE' 'LTU'\n",
      " 'LUX' 'LVA' 'MAC' 'MAF' 'MAR' 'MCO' 'MDA' 'MDG' 'MDV' 'MEA' 'MEX' 'MHL'\n",
      " 'MIC' 'MKD' 'MLI' 'MLT' 'MMR' 'MNA' 'MNE' 'MNG' 'MNP' 'MOZ' 'MRT' 'MUS'\n",
      " 'MWI' 'MYS' 'NAC' 'NAM' 'NCL' 'NER' 'NGA' 'NIC' 'NLD' 'NOR' 'NPL' 'NRU'\n",
      " 'NZL' 'OED' 'OMN' 'OSS' 'PAK' 'PAN' 'PER' 'PHL' 'PLW' 'PNG' 'POL' 'PRE'\n",
      " 'PRI' 'PRK' 'PRT' 'PRY' 'PSE' 'PSS' 'PST' 'PYF' 'QAT' 'ROU' 'RUS' 'RWA'\n",
      " 'SAS' 'SAU' 'SDN' 'SEN' 'SGP' 'SLB' 'SLE' 'SLV' 'SMR' 'SOM' 'SRB' 'SSA'\n",
      " 'SSD' 'SSF' 'SST' 'STP' 'SUR' 'SVK' 'SVN' 'SWE' 'SWZ' 'SXM' 'SYC' 'SYR'\n",
      " 'TCA' 'TCD' 'TEA' 'TEC' 'TGO' 'THA' 'TJK' 'TKM' 'TLA' 'TLS' 'TMN' 'TON'\n",
      " 'TSA' 'TSS' 'TTO' 'TUN' 'TUR' 'TUV' 'TZA' 'UGA' 'UKR' 'UMC' 'URY' 'USA'\n",
      " 'UZB' 'VCT' 'VEN' 'VGB' 'VIR' 'VNM' 'VUT' 'WLD' 'WSM' 'XKX' 'YEM' 'ZAF'\n",
      " 'ZMB' 'ZWE']\n",
      "Total number of countries in the dataset:  266\n"
     ]
    }
   ],
   "source": [
    "print(data[\"Country Code\"].unique())\n",
    "print(\"Total number of countries in the dataset: \", len(data[\"Country Code\"].unique()))"
   ]
  },
  {
   "cell_type": "code",
   "execution_count": 37,
   "id": "ab6a4bf2",
   "metadata": {},
   "outputs": [],
   "source": [
    "#dropping unnecessary columns\n",
    "\n",
    "#data.drop(columns=[\"Country Name\"], axis=1, inplace=True)"
   ]
  },
  {
   "cell_type": "code",
   "execution_count": 38,
   "id": "a40ee34e",
   "metadata": {},
   "outputs": [
    {
     "name": "stdout",
     "output_type": "stream",
     "text": [
      "Top 10 countries by total population in 2020:\n",
      "     Country Code          2020\n",
      "259          WLD  7.856139e+09\n",
      "103          IBT  6.667541e+09\n",
      "140          LMY  6.438170e+09\n",
      "156          MIC  5.758609e+09\n",
      "102          IBD  4.879367e+09\n",
      "62           EAR  3.396051e+09\n",
      "139          LMC  2.966397e+09\n",
      "249          UMC  2.792212e+09\n",
      "63           EAS  2.369439e+09\n",
      "142          LTE  2.316785e+09\n"
     ]
    }
   ],
   "source": [
    "#Extraction of top 10 countries with total population\n",
    "# Filter the data for the total population indicator\n",
    "total_population_data = data[data[\"Indicator Code\"] == \"SP.POP.TOTL\"]\n",
    "\n",
    "# Sort the data by the population in 2020 in descending order\n",
    "total_population_sorted = total_population_data.sort_values(by=\"2020\", ascending=False)\n",
    "\n",
    "# Extract the top 10 countries\n",
    "top_10_countries = total_population_sorted.head(10)\n",
    "\n",
    "print(\"Top 10 countries by total population in 2020:\\n\", top_10_countries[[\"Country Code\", \"2020\"]])"
   ]
  },
  {
   "cell_type": "code",
   "execution_count": 39,
   "id": "387db4f1",
   "metadata": {},
   "outputs": [
    {
     "name": "stderr",
     "output_type": "stream",
     "text": [
      "C:\\Users\\sohan\\AppData\\Local\\Temp\\ipykernel_9172\\742796061.py:7: FutureWarning: \n",
      "\n",
      "Passing `palette` without assigning `hue` is deprecated and will be removed in v0.14.0. Assign the `y` variable to `hue` and set `legend=False` for the same effect.\n",
      "\n",
      "  sns.barplot(x=\"2022\", y=\"Country Code\", data=top_10_countries, palette=\"viridis\")\n"
     ]
    },
    {
     "data": {
      "image/png": "[encoded data removed]",
      "text/plain": [
       "<Figure size 1500x600 with 1 Axes>"
      ]
     },
     "metadata": {},
     "output_type": "display_data"
    }
   ],
   "source": [
    "# Bar plot of the top 10 countries by total population in 2022 \n",
    "\n",
    "plt.figure(figsize=(15, 6))\n",
    "\n",
    "plt.subplot(1, 2, 1)\n",
    "\n",
    "sns.barplot(x=\"2022\", y=\"Country Code\", data=top_10_countries, palette=\"viridis\")\n",
    "\n",
    "plt.title(\"Top 10 Countries by Total Population from 2020\", fontsize=10)\n",
    "\n",
    "plt.xlabel(\"Total Population in 2020\", fontsize=10)\n",
    "\n",
    "plt.ylabel(\"Country\", fontsize=10)\n",
    "\n",
    "plt.show()"
   ]
  },
  {
   "cell_type": "code",
   "execution_count": 40,
   "id": "a1158e58",
   "metadata": {},
   "outputs": [
    {
     "name": "stdout",
     "output_type": "stream",
     "text": [
      "Bottom 10 countries by total population in 2020:\n",
      "     Country Code     2020\n",
      "245          TUV  10399.0\n",
      "179          NRU  11643.0\n",
      "188          PLW  17792.0\n",
      "147          MAF  31786.0\n",
      "212          SMR  34770.0\n",
      "84           GIB  36173.0\n",
      "255          VGB  37135.0\n",
      "149          MCO  38050.0\n",
      "137          LIE  38901.0\n",
      "225          SXM  41008.0\n"
     ]
    }
   ],
   "source": [
    "#Extraction of bottom 10 countries with total population\n",
    "# Filter the data for the total population indicator\n",
    "total_population_data = data[data[\"Indicator Code\"] == \"SP.POP.TOTL\"]\n",
    "\n",
    "# Sort the data by the population in 2020 in descending order\n",
    "total_population_sorted = total_population_data.sort_values(by=\"2020\", ascending=True)\n",
    "\n",
    "# Extract the Bottom 10 countries\n",
    "Bottom_10_countries = total_population_sorted.head(10)\n",
    "\n",
    "print(\"Bottom 10 countries by total population in 2020:\\n\", Bottom_10_countries[[\"Country Code\", \"2020\"]])"
   ]
  },
  {
   "cell_type": "code",
   "execution_count": 41,
   "id": "b511cb13",
   "metadata": {},
   "outputs": [
    {
     "name": "stderr",
     "output_type": "stream",
     "text": [
      "C:\\Users\\sohan\\AppData\\Local\\Temp\\ipykernel_9172\\852478760.py:7: FutureWarning: \n",
      "\n",
      "Passing `palette` without assigning `hue` is deprecated and will be removed in v0.14.0. Assign the `y` variable to `hue` and set `legend=False` for the same effect.\n",
      "\n",
      "  sns.barplot(x=\"2022\", y=\"Country Code\", data=Bottom_10_countries, palette=\"viridis\")\n"
     ]
    },
    {
     "data": {
      "image/png": "[encoded data removed]",
      "text/plain": [
       "<Figure size 1500x600 with 1 Axes>"
      ]
     },
     "metadata": {},
     "output_type": "display_data"
    }
   ],
   "source": [
    "# Bar plot of the Bottom 10 countries by total population in 2022 \n",
    "\n",
    "plt.figure(figsize=(15, 6))\n",
    "\n",
    "plt.subplot(1, 2, 1)\n",
    "\n",
    "sns.barplot(x=\"2022\", y=\"Country Code\", data=Bottom_10_countries, palette=\"viridis\")\n",
    "\n",
    "plt.title(\"Bottom 10 Countries by Total Population from 2020\", fontsize=10)\n",
    "\n",
    "plt.xlabel(\"Total Bottom Population in 2020\", fontsize=10)\n",
    "\n",
    "plt.ylabel(\"Country\", fontsize=10)\n",
    "\n",
    "plt.show()"
   ]
  },
  {
   "cell_type": "code",
   "execution_count": 50,
   "id": "b9de24ac",
   "metadata": {},
   "outputs": [
    {
     "name": "stdout",
     "output_type": "stream",
     "text": [
      "Data preview:\n",
      "                  Country Name Country Code    Indicator Name  \\\n",
      "0                        Aruba          ABW  Population, male   \n",
      "1  Africa Eastern and Southern          AFE  Population, male   \n",
      "2                  Afghanistan          AFG  Population, male   \n",
      "3   Africa Western and Central          AFW  Population, male   \n",
      "4                       Angola          AGO  Population, male   \n",
      "\n",
      "      Indicator Code        1960        1961        1962        1963  \\\n",
      "0  SP.POP.TOTL.MA.IN     26995.0     27326.0     27692.0     28027.0   \n",
      "1  SP.POP.TOTL.MA.IN  64409521.0  66120634.0  67916448.0  69778027.0   \n",
      "2  SP.POP.TOTL.MA.IN   4690245.0   4775684.0   4867111.0   4963703.0   \n",
      "3  SP.POP.TOTL.MA.IN  48455513.0  49456062.0  50496568.0  51587717.0   \n",
      "4  SP.POP.TOTL.MA.IN   2649099.0   2690647.0   2721244.0   2752564.0   \n",
      "\n",
      "         1964        1965  ...         2015         2016         2017  \\\n",
      "0     28334.0     28614.0  ...      51185.0      51514.0      51460.0   \n",
      "1  71729676.0  73764113.0  ...  300126839.0  308229616.0  316499465.0   \n",
      "2   5065414.0   5173290.0  ...   17099520.0   17541315.0   18038999.0   \n",
      "3  52711199.0  53877859.0  ...  210192954.0  215955200.0  221769028.0   \n",
      "4   2784880.0   2818210.0  ...   13905216.0   14415388.0   14938928.0   \n",
      "\n",
      "          2018         2019         2020         2021         2022  \\\n",
      "0      51479.0      51548.0      51205.0      50800.0      50658.0   \n",
      "1  325347331.0  334380327.0  343576395.0  352841557.0  362165890.0   \n",
      "2   18564622.0   19119647.0   19725450.0   20186456.0   20475675.0   \n",
      "3  227523214.0  233199013.0  238881426.0  244638086.0  250438879.0   \n",
      "4   15467791.0   16004756.0   16539639.0   17077372.0   17626416.0   \n",
      "\n",
      "          2023  Unnamed: 68  \n",
      "0      50706.0          NaN  \n",
      "1  371478016.0          NaN  \n",
      "2   20924078.0          NaN  \n",
      "3  256499160.0          NaN  \n",
      "4   18181690.0          NaN  \n",
      "\n",
      "[5 rows x 69 columns]\n",
      "Column names:\n",
      "Index(['Country Name', 'Country Code', 'Indicator Name', 'Indicator Code',\n",
      "       '1960', '1961', '1962', '1963', '1964', '1965', '1966', '1967', '1968',\n",
      "       '1969', '1970', '1971', '1972', '1973', '1974', '1975', '1976', '1977',\n",
      "       '1978', '1979', '1980', '1981', '1982', '1983', '1984', '1985', '1986',\n",
      "       '1987', '1988', '1989', '1990', '1991', '1992', '1993', '1994', '1995',\n",
      "       '1996', '1997', '1998', '1999', '2000', '2001', '2002', '2003', '2004',\n",
      "       '2005', '2006', '2007', '2008', '2009', '2010', '2011', '2012', '2013',\n",
      "       '2014', '2015', '2016', '2017', '2018', '2019', '2020', '2021', '2022',\n",
      "       '2023', 'Unnamed: 68'],\n",
      "      dtype='object')\n",
      "Top 10 countries with the highest male population\n",
      "    Country Code          2020\n",
      "259          WLD  3.953766e+09\n",
      "103          IBT  3.358795e+09\n",
      "140          LMY  3.250324e+09\n",
      "156          MIC  2.911711e+09\n",
      "102          IBD  2.465059e+09\n",
      "62           EAR  1.724146e+09\n",
      "139          LMC  1.506106e+09\n",
      "249          UMC  1.405605e+09\n",
      "63           EAS  1.197373e+09\n",
      "142          LTE  1.165990e+09\n"
     ]
    }
   ],
   "source": [
    "file_path1 = r\"dq.csv\"\n",
    "\n",
    "try:\n",
    "    # Load the data\n",
    "    data1 = pd.read_csv(file_path1, delimiter=',', on_bad_lines='skip', skiprows=4)\n",
    "    print(\"Data preview:\")\n",
    "    print(data1.head(5))\n",
    "\n",
    "    # Print the column names to debug\n",
    "    print(\"Column names:\")\n",
    "    print(data1.columns)\n",
    "    \n",
    "    # Filter the data for male population\n",
    "    male_population_data = data1[data1[\"Indicator Code\"] == \"SP.POP.TOTL.MA.IN\"]\n",
    "\n",
    "    # Sort the data based on the male population in 2020\n",
    "    male_population_sorted = male_population_data.sort_values(by=\"2020\", ascending=False)\n",
    "\n",
    "    # Get the top 10 countries with the highest male population in 2020\n",
    "    male_top_10_countries = male_population_sorted.head(10)\n",
    "\n",
    "    print(\"Top 10 countries with the highest male population\")\n",
    "    print(male_top_10_countries[[\"Country Code\", \"2020\"]])\n",
    "except Exception as e:\n",
    "    print(f\"Error: {e}\")"
   ]
  },
  {
   "cell_type": "code",
   "execution_count": 52,
   "id": "022043ea",
   "metadata": {},
   "outputs": [
    {
     "name": "stdout",
     "output_type": "stream",
     "text": [
      "Data preview:\n",
      "                  Country Name Country Code      Indicator Name  \\\n",
      "0                        Aruba          ABW  Population, female   \n",
      "1  Africa Eastern and Southern          AFE  Population, female   \n",
      "2                  Afghanistan          AFG  Population, female   \n",
      "3   Africa Western and Central          AFW  Population, female   \n",
      "4                       Angola          AGO  Population, female   \n",
      "\n",
      "      Indicator Code        1960        1961        1962        1963  \\\n",
      "0  SP.POP.TOTL.FE.IN     27927.0     28252.0     28628.0     28975.0   \n",
      "1  SP.POP.TOTL.FE.IN  65662559.0  67414289.0  69255211.0  71167509.0   \n",
      "2  SP.POP.TOTL.FE.IN   4344798.0   4438399.0   4537295.0   4640784.0   \n",
      "3  SP.POP.TOTL.FE.IN  49175412.0  50250612.0  51358188.0  52501458.0   \n",
      "4  SP.POP.TOTL.FE.IN   2582555.0   2610936.0   2633066.0   2655756.0   \n",
      "\n",
      "         1964        1965  ...         2015         2016         2017  \\\n",
      "0     29285.0     29576.0  ...      56721.0      57213.0      57275.0   \n",
      "1  73174418.0  75269359.0  ...  306996430.0  315139785.0  323559276.0   \n",
      "2   4748904.0   4862718.0  ...   16732244.0   17159297.0   17649936.0   \n",
      "3  53677241.0  54894773.0  ...  207934891.0  213499543.0  219113878.0   \n",
      "4   2679307.0   2703771.0  ...   14252582.0   14767682.0   15295911.0   \n",
      "\n",
      "          2018         2019         2020         2021         2022  \\\n",
      "0      57429.0      57655.0      57382.0      56900.0      56652.0   \n",
      "1  332453754.0  341569862.0  350869705.0  360249371.0  369655503.0   \n",
      "2   18178417.0   18736474.0   19343529.0   19813956.0   20103167.0   \n",
      "3  224672701.0  230166416.0  235687925.0  241282911.0  246948301.0   \n",
      "4   15829364.0   16370876.0   16911493.0   17455057.0   18008613.0   \n",
      "\n",
      "          2023  Unnamed: 68  \n",
      "0      56653.0          NaN  \n",
      "1  379025748.0          NaN  \n",
      "2   20530683.0          NaN  \n",
      "3  252899429.0          NaN  \n",
      "4   18568216.0          NaN  \n",
      "\n",
      "[5 rows x 69 columns]\n",
      "Column names:\n",
      "Index(['Country Name', 'Country Code', 'Indicator Name', 'Indicator Code',\n",
      "       '1960', '1961', '1962', '1963', '1964', '1965', '1966', '1967', '1968',\n",
      "       '1969', '1970', '1971', '1972', '1973', '1974', '1975', '1976', '1977',\n",
      "       '1978', '1979', '1980', '1981', '1982', '1983', '1984', '1985', '1986',\n",
      "       '1987', '1988', '1989', '1990', '1991', '1992', '1993', '1994', '1995',\n",
      "       '1996', '1997', '1998', '1999', '2000', '2001', '2002', '2003', '2004',\n",
      "       '2005', '2006', '2007', '2008', '2009', '2010', '2011', '2012', '2013',\n",
      "       '2014', '2015', '2016', '2017', '2018', '2019', '2020', '2021', '2022',\n",
      "       '2023', 'Unnamed: 68'],\n",
      "      dtype='object')\n",
      "Top 10 countries with the highest Female population\n",
      "    Country Code          2020\n",
      "259          WLD  3.902373e+09\n",
      "103          IBT  3.308746e+09\n",
      "140          LMY  3.187845e+09\n",
      "156          MIC  2.846898e+09\n",
      "102          IBD  2.414308e+09\n",
      "62           EAR  1.671906e+09\n",
      "139          LMC  1.460290e+09\n",
      "249          UMC  1.386608e+09\n",
      "63           EAS  1.172065e+09\n",
      "142          LTE  1.150795e+09\n"
     ]
    }
   ],
   "source": [
    "file_path1 = r\"dqq.csv\"\n",
    "\n",
    "try:\n",
    "    # Load the data\n",
    "    data2 = pd.read_csv(file_path1, delimiter=',', on_bad_lines='skip', skiprows=4)\n",
    "    print(\"Data preview:\")\n",
    "    print(data2.head(5))\n",
    "\n",
    "    # Print the column names to debug\n",
    "    print(\"Column names:\")\n",
    "    print(data2.columns)\n",
    "    \n",
    "    # Filter the data for Female population\n",
    "    Female_population_data = data2[data2[\"Indicator Code\"] == \"SP.POP.TOTL.FE.IN\"]\n",
    "\n",
    "    # Sort the data based on the Female population in 2020\n",
    "    Female_population_sorted = Female_population_data.sort_values(by=\"2020\", ascending=False)\n",
    "\n",
    "    # Get the top 10 countries with the highest Female population in 2020\n",
    "    Female_top_10_countries = Female_population_sorted.head(10)\n",
    "\n",
    "    print(\"Top 10 countries with the highest Female population\")\n",
    "    print(Female_top_10_countries[[\"Country Code\", \"2020\"]])\n",
    "except Exception as e:\n",
    "    print(f\"Error: {e}\")"
   ]
  },
  {
   "cell_type": "code",
   "execution_count": 55,
   "id": "0e0e29ea",
   "metadata": {},
   "outputs": [
    {
     "name": "stderr",
     "output_type": "stream",
     "text": [
      "C:\\Users\\sohan\\AppData\\Local\\Temp\\ipykernel_9172\\3023979352.py:7: FutureWarning: \n",
      "\n",
      "Passing `palette` without assigning `hue` is deprecated and will be removed in v0.14.0. Assign the `y` variable to `hue` and set `legend=False` for the same effect.\n",
      "\n",
      "  sns.barplot(x=\"2020\", y=\"Country Code\", data=male_top_10_countries, palette=\"viridis\")\n"
     ]
    },
    {
     "data": {
      "image/png": "[encoded data removed]",
      "text/plain": [
       "<Figure size 1500x600 with 1 Axes>"
      ]
     },
     "metadata": {},
     "output_type": "display_data"
    }
   ],
   "source": [
    "# Bar plot of the Bottom 10 countries by Male population in 2020 \n",
    "\n",
    "plt.figure(figsize=(15, 6))\n",
    "\n",
    "plt.subplot(1, 2, 1)\n",
    "\n",
    "sns.barplot(x=\"2020\", y=\"Country Code\", data=male_top_10_countries, palette=\"viridis\")\n",
    "\n",
    "plt.title(\"Top 10 Countries by Male Population from 2020\", fontsize=10)\n",
    "\n",
    "plt.xlabel(\"Total Male Population in 2020\", fontsize=10)\n",
    "\n",
    "plt.ylabel(\"Country\", fontsize=10)\n",
    "\n",
    "plt.show()"
   ]
  },
  {
   "cell_type": "code",
   "execution_count": 56,
   "id": "fcb1e882",
   "metadata": {},
   "outputs": [
    {
     "name": "stderr",
     "output_type": "stream",
     "text": [
      "C:\\Users\\sohan\\AppData\\Local\\Temp\\ipykernel_9172\\3211233971.py:7: FutureWarning: \n",
      "\n",
      "Passing `palette` without assigning `hue` is deprecated and will be removed in v0.14.0. Assign the `y` variable to `hue` and set `legend=False` for the same effect.\n",
      "\n",
      "  sns.barplot(x=\"2020\", y=\"Country Code\", data=Female_top_10_countries, palette=\"viridis\")\n"
     ]
    },
    {
     "data": {
      "image/png": "[encoded data removed]",
      "text/plain": [
       "<Figure size 1500x600 with 1 Axes>"
      ]
     },
     "metadata": {},
     "output_type": "display_data"
    }
   ],
   "source": [
    "# Bar plot of the Bottom 10 countries by Female population in 2020 \n",
    "\n",
    "plt.figure(figsize=(15, 6))\n",
    "\n",
    "plt.subplot(1, 2, 1)\n",
    "\n",
    "sns.barplot(x=\"2020\", y=\"Country Code\", data=Female_top_10_countries, palette=\"viridis\")\n",
    "\n",
    "plt.title(\"Top 10 Countries by Female Population from 2020\", fontsize=10)\n",
    "\n",
    "plt.xlabel(\"Total Female Population in 2020\", fontsize=10)\n",
    "\n",
    "plt.ylabel(\"Country\", fontsize=10)\n",
    "\n",
    "plt.show()"
   ]
  },
  {
   "cell_type": "code",
   "execution_count": null,
   "id": "c2d17727",
   "metadata": {},
   "outputs": [],
   "source": []
  }
 ],
 "metadata": {
  "kernelspec": {
   "display_name": "Python 3",
   "language": "python",
   "name": "python3"
  },
  "language_info": {
   "codemirror_mode": {
    "name": "ipython",
    "version": 3
   },
   "file_extension": ".py",
   "mimetype": "text/x-python",
   "name": "python",
   "nbconvert_exporter": "python",
   "pygments_lexer": "ipython3",
   "version": "3.12.4"
  }
 },
 "nbformat": 4,
 "nbformat_minor": 5
}
